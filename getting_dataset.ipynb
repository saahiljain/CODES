{
  "nbformat": 4,
  "nbformat_minor": 0,
  "metadata": {
    "colab": {
      "name": "Untitled2.ipynb",
      "version": "0.3.2",
      "provenance": [],
      "include_colab_link": true
    },
    "kernelspec": {
      "name": "python3",
      "display_name": "Python 3"
    }
  },
  "cells": [
    {
      "cell_type": "markdown",
      "metadata": {
        "id": "view-in-github",
        "colab_type": "text"
      },
      "source": [
        "<a href=\"https://colab.research.google.com/github/saahiljain/CODES/blob/master/getting_dataset.ipynb\" target=\"_parent\"><img src=\"https://colab.research.google.com/assets/colab-badge.svg\" alt=\"Open In Colab\"/></a>"
      ]
    },
    {
      "metadata": {
        "id": "-O1cC7x-lhEb",
        "colab_type": "code",
        "colab": {}
      },
      "cell_type": "code",
      "source": [
        "# mounting google drive to colab to get the training data\n",
        "from google.colab import drive\n",
        "drive.mount('/content/drive')"
      ],
      "execution_count": 0,
      "outputs": []
    },
    {
      "metadata": {
        "id": "psMohXoHljHt",
        "colab_type": "code",
        "colab": {}
      },
      "cell_type": "code",
      "source": [
        "cd /content/drive/My\\ Drive"
      ],
      "execution_count": 0,
      "outputs": []
    },
    {
      "metadata": {
        "id": "kuNH812ulmPq",
        "colab_type": "code",
        "colab": {}
      },
      "cell_type": "code",
      "source": [
        "!wget https://storage.googleapis.com/openimages/2018_04/train/train-annotations-bbox.csv"
      ],
      "execution_count": 0,
      "outputs": []
    },
    {
      "metadata": {
        "id": "UDyxywpUloGE",
        "colab_type": "code",
        "colab": {}
      },
      "cell_type": "code",
      "source": [
        "!wget https://storage.googleapis.com/openimages/2018_04/class-descriptions-boxable.csv"
      ],
      "execution_count": 0,
      "outputs": []
    },
    {
      "metadata": {
        "id": "LqMmxXMWlqeU",
        "colab_type": "code",
        "colab": {}
      },
      "cell_type": "code",
      "source": [
        "!pip3 install awscli"
      ],
      "execution_count": 0,
      "outputs": []
    },
    {
      "metadata": {
        "id": "jzXFYD2ClytQ",
        "colab_type": "code",
        "colab": {}
      },
      "cell_type": "code",
      "source": [
        "!mkdir JPEGImages"
      ],
      "execution_count": 0,
      "outputs": []
    },
    {
      "metadata": {
        "id": "wW5S-2cql04J",
        "colab_type": "code",
        "colab": {}
      },
      "cell_type": "code",
      "source": [
        "!mkdir labels"
      ],
      "execution_count": 0,
      "outputs": []
    },
    {
      "metadata": {
        "id": "m8dk4ehOls1P",
        "colab_type": "code",
        "colab": {}
      },
      "cell_type": "code",
      "source": [
        "import csv\n",
        "import subprocess\n",
        "import os\n",
        "\n",
        "runMode = \"train\"\n",
        "classes = [\"Helmet\"]//change here to get ambulance\n",
        "\n",
        "with open('class-descriptions-boxable.csv', mode='r') as infile:\n",
        "    reader = csv.reader(infile)\n",
        "    dict_list = {rows[1]:rows[0] for rows in reader}\n",
        "\n",
        "subprocess.run([ '!mkdir', 'JPEGImages'],shell=True)\n",
        "\n",
        "subprocess.run(['rm', '-rf', 'labels'],shell=True)\n",
        "subprocess.run([ '!mkdir', 'labels'],shell=True)\n",
        "\n",
        "for ind in range(0, len(classes)):\n",
        "    \n",
        "    className = classes[ind]\n",
        "    print(\"Class \" + str(ind) + \" : \" + className)\n",
        "\n",
        "    commandStr = \"grep \" + dict_list[className] + \" \" + runMode + \"-annotations-bbox.csv\"\n",
        "    print(commandStr)\n",
        "    class_annotations = subprocess.run(commandStr.split(), stdout=subprocess.PIPE).stdout.decode('utf-8')\n",
        "    class_annotations = class_annotations.splitlines()\n",
        "\n",
        "    totalNumOfAnnotations = len(class_annotations)\n",
        "    print(\"Total number of annotations : \"+str(totalNumOfAnnotations))\n",
        "\n",
        "    cnt = 0\n",
        "    for line in class_annotations[0:totalNumOfAnnotations]:\n",
        "        cnt = cnt + 1\n",
        "        print(\"annotation count : val \" + str(cnt))\n",
        "        lineParts = line.split(',')\n",
        "        print(lineParts)\n",
        "        subprocess.run([ 'aws', 's3', '--no-sign-request', '--only-show-errors', 'cp', 's3://open-images-dataset/'+runMode+'/'+lineParts[0]+\".jpg\", 'JPEGImages/'+lineParts[0]+\".jpg\"])\n",
        "        with open('labels/%s.txt'%(lineParts[0]),'a') as f:\n",
        "            f.write(' '.join([str(ind),str((float(lineParts[5]) + float(lineParts[4]))/2), str((float(lineParts[7]) + float(lineParts[6]))/2), str(float(lineParts[5])-float(lineParts[4])),str(float(lineParts[7])-float(lineParts[6]))])+'\\n')\n",
        "\n",
        "print(\"done\")\n"
      ],
      "execution_count": 0,
      "outputs": []
    }
  ]
}